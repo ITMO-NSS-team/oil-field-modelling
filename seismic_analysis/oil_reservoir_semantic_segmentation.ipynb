{
 "cells": [
  {
   "cell_type": "code",
   "execution_count": 1,
   "metadata": {},
   "outputs": [
    {
     "name": "stderr",
     "output_type": "stream",
     "text": [
      "Using TensorFlow backend.\n"
     ]
    }
   ],
   "source": [
    "import os\n",
    "import random\n",
    "import pandas as pd\n",
    "import numpy as np\n",
    "import matplotlib.pyplot as plt\n",
    "plt.style.use(\"ggplot\")\n",
    "get_ipython().run_line_magic('matplotlib', 'inline')\n",
    "\n",
    "from tqdm import tqdm_notebook, tnrange\n",
    "from itertools import chain\n",
    "from skimage.io import imread, imshow, concatenate_images\n",
    "from skimage.transform import resize\n",
    "from skimage.morphology import label\n",
    "from sklearn.model_selection import train_test_split\n",
    "\n",
    "import tensorflow as tf\n",
    "\n",
    "from keras.models import Model, load_model\n",
    "from keras.layers import Input, BatchNormalization, Activation, Dense, Dropout\n",
    "from keras.layers.core import Lambda, RepeatVector, Reshape\n",
    "from keras.layers.convolutional import Conv2D, Conv2DTranspose\n",
    "from keras.layers.pooling import MaxPooling2D, GlobalMaxPool2D\n",
    "from keras.layers.merge import concatenate, add\n",
    "from keras.callbacks import EarlyStopping, ModelCheckpoint, ReduceLROnPlateau\n",
    "from keras.optimizers import Adam\n",
    "from keras.preprocessing.image import ImageDataGenerator, array_to_img, img_to_array, load_img\n"
   ]
  },
  {
   "cell_type": "markdown",
   "metadata": {},
   "source": [
    "### Image size"
   ]
  },
  {
   "cell_type": "code",
   "execution_count": 2,
   "metadata": {},
   "outputs": [],
   "source": [
    "im_width = 640\n",
    "im_height = 400\n",
    "border = 5"
   ]
  },
  {
   "cell_type": "markdown",
   "metadata": {},
   "source": [
    "### Read seismic time slice images from directory"
   ]
  },
  {
   "cell_type": "code",
   "execution_count": 3,
   "metadata": {},
   "outputs": [
    {
     "name": "stdout",
     "output_type": "stream",
     "text": [
      "No. of images =  449\n"
     ]
    }
   ],
   "source": [
    "ids = next(os.walk(r\"./images\"))[2] # list of names all images in the given path\n",
    "print(\"No. of images = \", len(ids))\n",
    "\n",
    "X = np.zeros((len(ids), im_height, im_width, 1), dtype=np.float32)\n",
    "y = np.zeros((len(ids), im_height, im_width, 1), dtype=np.float32)"
   ]
  },
  {
   "cell_type": "markdown",
   "metadata": {},
   "source": [
    "### Convert our images into Numpy format"
   ]
  },
  {
   "cell_type": "code",
   "execution_count": 4,
   "metadata": {},
   "outputs": [
    {
     "name": "stderr",
     "output_type": "stream",
     "text": [
      "D:\\anaconda\\lib\\site-packages\\keras_preprocessing\\image\\utils.py:104: UserWarning: grayscale is deprecated. Please use color_mode = \"grayscale\"\n",
      "  warnings.warn('grayscale is deprecated. Please use '\n"
     ]
    }
   ],
   "source": [
    "for n, id_ in enumerate(ids):\n",
    "    # Load images\n",
    "    img = load_img(r\"./images/\"+id_, grayscale=True)\n",
    "    x_img = img_to_array(img)\n",
    "    x_img = resize(x_img, ( im_height,im_width, 1), mode = 'constant', preserve_range = True)\n",
    "    # Load masks\n",
    "    mask = img_to_array(load_img(r\"./mask/\"+id_, grayscale=True))\n",
    "    mask = resize(mask, (im_height,im_width, 1), mode = 'constant', preserve_range = True)\n",
    "    # Save images\n",
    "    X[n] = x_img/255.0\n",
    "    y[n] = mask/255.0"
   ]
  },
  {
   "cell_type": "markdown",
   "metadata": {},
   "source": [
    "### Split data"
   ]
  },
  {
   "cell_type": "code",
   "execution_count": 5,
   "metadata": {},
   "outputs": [],
   "source": [
    "X_train, X_valid, y_train, y_valid = train_test_split(X, y, test_size=0.2, random_state=42)"
   ]
  },
  {
   "cell_type": "markdown",
   "metadata": {},
   "source": [
    "### Non physical data augmentation"
   ]
  },
  {
   "cell_type": "code",
   "execution_count": 6,
   "metadata": {},
   "outputs": [],
   "source": [
    "\n",
    "#Up down flip\n",
    "X_train = np.append(X_train, [np.flipud(x) for x in X_train], axis=0) \n",
    "y_train = np.append(y_train, [np.flipud(x) for x in y_train], axis=0)\n",
    "\n",
    "#90 deg rotation\n",
    "X_train = np.append(X_train, [np.flip(x,axis = (0,1)) for x in X_train], axis=0) \n",
    "y_train = np.append(y_train, [np.flip(x,axis = (0,1)) for x in y_train], axis=0)\n"
   ]
  },
  {
   "cell_type": "code",
   "execution_count": 7,
   "metadata": {},
   "outputs": [],
   "source": [
    "#Up down flip\n",
    "X_valid = np.append(X_valid, [np.flipud(x) for x in X_valid], axis=0) \n",
    "y_valid = np.append(y_valid, [np.flipud(x) for x in y_valid], axis=0)\n",
    "\n",
    "#90 deg rotation\n",
    "X_valid = np.append(X_valid, [np.flip(x,axis = (0,1)) for x in X_valid], axis=0) \n",
    "y_valid = np.append(y_valid, [np.flip(x,axis = (0,1)) for x in y_valid], axis=0)\n"
   ]
  },
  {
   "cell_type": "code",
   "execution_count": 8,
   "metadata": {},
   "outputs": [
    {
     "data": {
      "text/plain": [
       "(1436, 400, 640, 1)"
      ]
     },
     "execution_count": 8,
     "metadata": {},
     "output_type": "execute_result"
    }
   ],
   "source": [
    "X_train.shape"
   ]
  },
  {
   "cell_type": "code",
   "execution_count": 9,
   "metadata": {},
   "outputs": [
    {
     "data": {
      "text/plain": [
       "(360, 400, 640, 1)"
      ]
     },
     "execution_count": 9,
     "metadata": {},
     "output_type": "execute_result"
    }
   ],
   "source": [
    "X_valid.shape"
   ]
  },
  {
   "cell_type": "markdown",
   "metadata": {},
   "source": [
    "### Create functions for IoU metrics and convolutional blocks"
   ]
  },
  {
   "cell_type": "code",
   "execution_count": null,
   "metadata": {},
   "outputs": [],
   "source": [
    "import keras.backend as K\n",
    "\n",
    "def mean_iou(y_true, y_pred):\n",
    "    prec = []\n",
    "    for t in np.arange(0.5, 1.0, 0.05):\n",
    "        tensor = y_pred > t\n",
    "        y_pred_ = tf.cast(tensor, tf.int32)\n",
    "        score, up_opt = tf.metrics.mean_iou(y_true, y_pred_, 2)\n",
    "        K.get_session().run(tf.local_variables_initializer())\n",
    "        with tf.control_dependencies([up_opt]):\n",
    "            score = tf.identity(score)\n",
    "        prec.append(score)\n",
    "    return K.mean(K.stack(prec), axis=0)\n",
    "\n",
    "def get_iou_vector(A, B):\n",
    "    batch_size = A.shape[0]\n",
    "    metric = []\n",
    "    for batch in range(batch_size):\n",
    "        t, p = A[batch]>0, B[batch]>0\n",
    "#         if np.count_nonzero(t) == 0 and np.count_nonzero(p) > 0:\n",
    "#             metric.append(0)\n",
    "#             continue\n",
    "#         if np.count_nonzero(t) >= 1 and np.count_nonzero(p) == 0:\n",
    "#             metric.append(0)\n",
    "#             continue\n",
    "#         if np.count_nonzero(t) == 0 and np.count_nonzero(p) == 0:\n",
    "#             metric.append(1)\n",
    "#             continue\n",
    "        \n",
    "        intersection = np.logical_and(t, p)\n",
    "        union = np.logical_or(t, p)\n",
    "        iou = (np.sum(intersection > 0) + 1e-10 )/ (np.sum(union > 0) + 1e-10)\n",
    "        thresholds = np.arange(0.5, 1, 0.05)\n",
    "        s = []\n",
    "        for thresh in thresholds:\n",
    "            s.append(iou > thresh)\n",
    "        metric.append(np.mean(s))\n",
    "\n",
    "    return np.mean(metric)\n",
    "\n",
    "def my_iou_metric(label, pred):\n",
    "    return tf.py_func(get_iou_vector, [label, pred>0.5], tf.float64)\n",
    "\n",
    "def my_iou_metric_2(label, pred):\n",
    "    return tf.py_func(get_iou_vector, [label, pred >0], tf.float64)\n",
    "\n",
    "def conv2d_block(input_tensor, n_filters, kernel_size = 3, batchnorm = True):\n",
    "    \"\"\"Function to add 2 convolutional layers with the parameters passed to it\"\"\"\n",
    "    # first layer\n",
    "    x = Conv2D(filters = n_filters, kernel_size = (kernel_size, kernel_size),              kernel_initializer = 'he_normal', padding = 'same')(input_tensor)\n",
    "    if batchnorm:\n",
    "        x = BatchNormalization()(x)\n",
    "    x = Activation('relu')(x)\n",
    "    \n",
    "    # second layer\n",
    "    x = Conv2D(filters = n_filters, kernel_size = (kernel_size, kernel_size),              kernel_initializer = 'he_normal', padding = 'same')(input_tensor)\n",
    "    if batchnorm:\n",
    "        x = BatchNormalization()(x)\n",
    "    x = Activation('relu')(x)\n",
    "    \n",
    "    return x"
   ]
  },
  {
   "cell_type": "markdown",
   "metadata": {},
   "source": [
    "### Create function for create UNET Model"
   ]
  },
  {
   "cell_type": "code",
   "execution_count": 11,
   "metadata": {},
   "outputs": [],
   "source": [
    "def get_unet(input_img, n_filters = 16, dropout = 0.1, batchnorm = True):\n",
    "    \"\"\"Function to define the UNET Model\"\"\"\n",
    "    # Contracting Path\n",
    "    c1 = conv2d_block(input_img, n_filters * 1, kernel_size = 3, batchnorm = batchnorm)\n",
    "    p1 = MaxPooling2D((2, 2))(c1)\n",
    "    p1 = Dropout(dropout)(p1)\n",
    "    \n",
    "    c2 = conv2d_block(p1, n_filters * 2, kernel_size = 3, batchnorm = batchnorm)\n",
    "    p2 = MaxPooling2D((2, 2))(c2)\n",
    "    p2 = Dropout(dropout)(p2)\n",
    "    \n",
    "    c3 = conv2d_block(p2, n_filters * 4, kernel_size = 3, batchnorm = batchnorm)\n",
    "    p3 = MaxPooling2D((2, 2))(c3)\n",
    "    p3 = Dropout(dropout)(p3)\n",
    "    \n",
    "    c4 = conv2d_block(p3, n_filters * 8, kernel_size = 3, batchnorm = batchnorm)\n",
    "    p4 = MaxPooling2D((2, 2))(c4)\n",
    "    p4 = Dropout(dropout)(p4)\n",
    "    \n",
    "    c5 = conv2d_block(p4, n_filters = n_filters * 16, kernel_size = 3, batchnorm = batchnorm)\n",
    "    \n",
    "    # Expansive Path\n",
    "    u6 = Conv2DTranspose(n_filters * 8, (3, 3), strides = (2, 2), padding = 'same')(c5)\n",
    "    u6 = concatenate([u6, c4])\n",
    "    u6 = Dropout(dropout)(u6)\n",
    "    c6 = conv2d_block(u6, n_filters * 8, kernel_size = 3, batchnorm = batchnorm)\n",
    "    \n",
    "    u7 = Conv2DTranspose(n_filters * 4, (3, 3), strides = (2, 2), padding = 'same')(c6)\n",
    "    u7 = concatenate([u7, c3])\n",
    "    u7 = Dropout(dropout)(u7)\n",
    "    c7 = conv2d_block(u7, n_filters * 4, kernel_size = 3, batchnorm = batchnorm)\n",
    "    \n",
    "    u8 = Conv2DTranspose(n_filters * 2, (3, 3), strides = (2, 2), padding = 'same')(c7)\n",
    "    u8 = concatenate([u8, c2])\n",
    "    u8 = Dropout(dropout)(u8)\n",
    "    c8 = conv2d_block(u8, n_filters * 2, kernel_size = 3, batchnorm = batchnorm)\n",
    "    \n",
    "    u9 = Conv2DTranspose(n_filters * 1, (3, 3), strides = (2, 2), padding = 'same')(c8)\n",
    "    u9 = concatenate([u9, c1])\n",
    "    u9 = Dropout(dropout)(u9)\n",
    "    c9 = conv2d_block(u9, n_filters * 1, kernel_size = 3, batchnorm = batchnorm)\n",
    "    \n",
    "    outputs = Conv2D(1, (1, 1), activation='sigmoid')(c9)\n",
    "    model = Model(inputs=[input_img], outputs=[outputs])\n",
    "    return model\n"
   ]
  },
  {
   "cell_type": "markdown",
   "metadata": {},
   "source": [
    "### Compile and fit our model"
   ]
  },
  {
   "cell_type": "code",
   "execution_count": 12,
   "metadata": {
    "collapsed": true,
    "jupyter": {
     "outputs_hidden": true
    }
   },
   "outputs": [
    {
     "name": "stdout",
     "output_type": "stream",
     "text": [
      "Model: \"model_1\"\n",
      "__________________________________________________________________________________________________\n",
      "Layer (type)                    Output Shape         Param #     Connected to                     \n",
      "==================================================================================================\n",
      "img (InputLayer)                (None, 400, 640, 1)  0                                            \n",
      "__________________________________________________________________________________________________\n",
      "conv2d_2 (Conv2D)               (None, 400, 640, 16) 160         img[0][0]                        \n",
      "__________________________________________________________________________________________________\n",
      "batch_normalization_2 (BatchNor (None, 400, 640, 16) 64          conv2d_2[0][0]                   \n",
      "__________________________________________________________________________________________________\n",
      "activation_2 (Activation)       (None, 400, 640, 16) 0           batch_normalization_2[0][0]      \n",
      "__________________________________________________________________________________________________\n",
      "max_pooling2d_1 (MaxPooling2D)  (None, 200, 320, 16) 0           activation_2[0][0]               \n",
      "__________________________________________________________________________________________________\n",
      "dropout_1 (Dropout)             (None, 200, 320, 16) 0           max_pooling2d_1[0][0]            \n",
      "__________________________________________________________________________________________________\n",
      "conv2d_4 (Conv2D)               (None, 200, 320, 32) 4640        dropout_1[0][0]                  \n",
      "__________________________________________________________________________________________________\n",
      "batch_normalization_4 (BatchNor (None, 200, 320, 32) 128         conv2d_4[0][0]                   \n",
      "__________________________________________________________________________________________________\n",
      "activation_4 (Activation)       (None, 200, 320, 32) 0           batch_normalization_4[0][0]      \n",
      "__________________________________________________________________________________________________\n",
      "max_pooling2d_2 (MaxPooling2D)  (None, 100, 160, 32) 0           activation_4[0][0]               \n",
      "__________________________________________________________________________________________________\n",
      "dropout_2 (Dropout)             (None, 100, 160, 32) 0           max_pooling2d_2[0][0]            \n",
      "__________________________________________________________________________________________________\n",
      "conv2d_6 (Conv2D)               (None, 100, 160, 64) 18496       dropout_2[0][0]                  \n",
      "__________________________________________________________________________________________________\n",
      "batch_normalization_6 (BatchNor (None, 100, 160, 64) 256         conv2d_6[0][0]                   \n",
      "__________________________________________________________________________________________________\n",
      "activation_6 (Activation)       (None, 100, 160, 64) 0           batch_normalization_6[0][0]      \n",
      "__________________________________________________________________________________________________\n",
      "max_pooling2d_3 (MaxPooling2D)  (None, 50, 80, 64)   0           activation_6[0][0]               \n",
      "__________________________________________________________________________________________________\n",
      "dropout_3 (Dropout)             (None, 50, 80, 64)   0           max_pooling2d_3[0][0]            \n",
      "__________________________________________________________________________________________________\n",
      "conv2d_8 (Conv2D)               (None, 50, 80, 128)  73856       dropout_3[0][0]                  \n",
      "__________________________________________________________________________________________________\n",
      "batch_normalization_8 (BatchNor (None, 50, 80, 128)  512         conv2d_8[0][0]                   \n",
      "__________________________________________________________________________________________________\n",
      "activation_8 (Activation)       (None, 50, 80, 128)  0           batch_normalization_8[0][0]      \n",
      "__________________________________________________________________________________________________\n",
      "max_pooling2d_4 (MaxPooling2D)  (None, 25, 40, 128)  0           activation_8[0][0]               \n",
      "__________________________________________________________________________________________________\n",
      "dropout_4 (Dropout)             (None, 25, 40, 128)  0           max_pooling2d_4[0][0]            \n",
      "__________________________________________________________________________________________________\n",
      "conv2d_10 (Conv2D)              (None, 25, 40, 256)  295168      dropout_4[0][0]                  \n",
      "__________________________________________________________________________________________________\n",
      "batch_normalization_10 (BatchNo (None, 25, 40, 256)  1024        conv2d_10[0][0]                  \n",
      "__________________________________________________________________________________________________\n",
      "activation_10 (Activation)      (None, 25, 40, 256)  0           batch_normalization_10[0][0]     \n",
      "__________________________________________________________________________________________________\n",
      "conv2d_transpose_1 (Conv2DTrans (None, 50, 80, 128)  295040      activation_10[0][0]              \n",
      "__________________________________________________________________________________________________\n",
      "concatenate_1 (Concatenate)     (None, 50, 80, 256)  0           conv2d_transpose_1[0][0]         \n",
      "                                                                 activation_8[0][0]               \n",
      "__________________________________________________________________________________________________\n",
      "dropout_5 (Dropout)             (None, 50, 80, 256)  0           concatenate_1[0][0]              \n",
      "__________________________________________________________________________________________________\n",
      "conv2d_12 (Conv2D)              (None, 50, 80, 128)  295040      dropout_5[0][0]                  \n",
      "__________________________________________________________________________________________________\n",
      "batch_normalization_12 (BatchNo (None, 50, 80, 128)  512         conv2d_12[0][0]                  \n",
      "__________________________________________________________________________________________________\n",
      "activation_12 (Activation)      (None, 50, 80, 128)  0           batch_normalization_12[0][0]     \n",
      "__________________________________________________________________________________________________\n",
      "conv2d_transpose_2 (Conv2DTrans (None, 100, 160, 64) 73792       activation_12[0][0]              \n",
      "__________________________________________________________________________________________________\n",
      "concatenate_2 (Concatenate)     (None, 100, 160, 128 0           conv2d_transpose_2[0][0]         \n",
      "                                                                 activation_6[0][0]               \n",
      "__________________________________________________________________________________________________\n",
      "dropout_6 (Dropout)             (None, 100, 160, 128 0           concatenate_2[0][0]              \n",
      "__________________________________________________________________________________________________\n",
      "conv2d_14 (Conv2D)              (None, 100, 160, 64) 73792       dropout_6[0][0]                  \n",
      "__________________________________________________________________________________________________\n",
      "batch_normalization_14 (BatchNo (None, 100, 160, 64) 256         conv2d_14[0][0]                  \n",
      "__________________________________________________________________________________________________\n",
      "activation_14 (Activation)      (None, 100, 160, 64) 0           batch_normalization_14[0][0]     \n",
      "__________________________________________________________________________________________________\n",
      "conv2d_transpose_3 (Conv2DTrans (None, 200, 320, 32) 18464       activation_14[0][0]              \n",
      "__________________________________________________________________________________________________\n",
      "concatenate_3 (Concatenate)     (None, 200, 320, 64) 0           conv2d_transpose_3[0][0]         \n",
      "                                                                 activation_4[0][0]               \n",
      "__________________________________________________________________________________________________\n",
      "dropout_7 (Dropout)             (None, 200, 320, 64) 0           concatenate_3[0][0]              \n",
      "__________________________________________________________________________________________________\n",
      "conv2d_16 (Conv2D)              (None, 200, 320, 32) 18464       dropout_7[0][0]                  \n",
      "__________________________________________________________________________________________________\n",
      "batch_normalization_16 (BatchNo (None, 200, 320, 32) 128         conv2d_16[0][0]                  \n",
      "__________________________________________________________________________________________________\n",
      "activation_16 (Activation)      (None, 200, 320, 32) 0           batch_normalization_16[0][0]     \n",
      "__________________________________________________________________________________________________\n",
      "conv2d_transpose_4 (Conv2DTrans (None, 400, 640, 16) 4624        activation_16[0][0]              \n",
      "__________________________________________________________________________________________________\n",
      "concatenate_4 (Concatenate)     (None, 400, 640, 32) 0           conv2d_transpose_4[0][0]         \n",
      "                                                                 activation_2[0][0]               \n",
      "__________________________________________________________________________________________________\n",
      "dropout_8 (Dropout)             (None, 400, 640, 32) 0           concatenate_4[0][0]              \n",
      "__________________________________________________________________________________________________\n",
      "conv2d_18 (Conv2D)              (None, 400, 640, 16) 4624        dropout_8[0][0]                  \n",
      "__________________________________________________________________________________________________\n",
      "batch_normalization_18 (BatchNo (None, 400, 640, 16) 64          conv2d_18[0][0]                  \n",
      "__________________________________________________________________________________________________\n",
      "activation_18 (Activation)      (None, 400, 640, 16) 0           batch_normalization_18[0][0]     \n",
      "__________________________________________________________________________________________________\n",
      "conv2d_19 (Conv2D)              (None, 400, 640, 1)  17          activation_18[0][0]              \n",
      "==================================================================================================\n",
      "Total params: 1,179,121\n",
      "Trainable params: 1,177,649\n",
      "Non-trainable params: 1,472\n",
      "__________________________________________________________________________________________________\n"
     ]
    }
   ],
   "source": [
    "input_img = Input((im_height,im_width,1), name='img')\n",
    "model = get_unet(input_img, n_filters=16, dropout=0.05, batchnorm=True)\n",
    "model.compile(optimizer=Adam(), loss=\"binary_crossentropy\", metrics=[\"accuracy\"])\n",
    "#model.compile(optimizer=Adam(), loss=\"binary_crossentropy\", metrics=[tf.keras.metrics.MeanIoU(num_classes=2)])\n",
    "\n",
    "model.summary()"
   ]
  },
  {
   "cell_type": "code",
   "execution_count": 13,
   "metadata": {
    "collapsed": true,
    "jupyter": {
     "outputs_hidden": true
    }
   },
   "outputs": [
    {
     "name": "stdout",
     "output_type": "stream",
     "text": [
      "Train on 1436 samples, validate on 360 samples\n",
      "Epoch 1/50\n",
      "1436/1436 [==============================] - 1064s 741ms/step - loss: 0.3320 - accuracy: 0.9263 - val_loss: 0.6379 - val_accuracy: 0.8482\n",
      "\n",
      "Epoch 00001: val_loss improved from inf to 0.63789, saving model to model-oil_version2.h5\n",
      "Epoch 2/50\n",
      "1436/1436 [==============================] - 1064s 741ms/step - loss: 0.2111 - accuracy: 0.9573 - val_loss: 0.5146 - val_accuracy: 0.8420\n",
      "\n",
      "Epoch 00002: val_loss improved from 0.63789 to 0.51457, saving model to model-oil_version2.h5\n",
      "Epoch 3/50\n",
      "1436/1436 [==============================] - 1063s 740ms/step - loss: 0.1807 - accuracy: 0.9540 - val_loss: 0.6312 - val_accuracy: 0.8769\n",
      "\n",
      "Epoch 00003: val_loss did not improve from 0.51457\n",
      "Epoch 4/50\n",
      "1436/1436 [==============================] - 1040s 724ms/step - loss: 0.1500 - accuracy: 0.9586 - val_loss: 0.4950 - val_accuracy: 0.8650\n",
      "\n",
      "Epoch 00004: val_loss improved from 0.51457 to 0.49501, saving model to model-oil_version2.h5\n",
      "Epoch 5/50\n",
      "1436/1436 [==============================] - 1046s 728ms/step - loss: 0.1268 - accuracy: 0.9618 - val_loss: 0.4437 - val_accuracy: 0.8770\n",
      "\n",
      "Epoch 00005: val_loss improved from 0.49501 to 0.44371, saving model to model-oil_version2.h5\n",
      "Epoch 6/50\n",
      "1436/1436 [==============================] - 1033s 719ms/step - loss: 0.1177 - accuracy: 0.9612 - val_loss: 0.4762 - val_accuracy: 0.8807\n",
      "\n",
      "Epoch 00006: val_loss did not improve from 0.44371\n",
      "Epoch 7/50\n",
      "1436/1436 [==============================] - 1019s 710ms/step - loss: 0.1078 - accuracy: 0.9621 - val_loss: 0.2996 - val_accuracy: 0.9109\n",
      "\n",
      "Epoch 00007: val_loss improved from 0.44371 to 0.29958, saving model to model-oil_version2.h5\n",
      "Epoch 8/50\n",
      "1436/1436 [==============================] - 1022s 711ms/step - loss: 0.1013 - accuracy: 0.9634 - val_loss: 0.2371 - val_accuracy: 0.9209\n",
      "\n",
      "Epoch 00008: val_loss improved from 0.29958 to 0.23708, saving model to model-oil_version2.h5\n",
      "Epoch 9/50\n",
      "1436/1436 [==============================] - 1020s 710ms/step - loss: 0.0955 - accuracy: 0.9644 - val_loss: 0.1931 - val_accuracy: 0.9302\n",
      "\n",
      "Epoch 00009: val_loss improved from 0.23708 to 0.19307, saving model to model-oil_version2.h5\n",
      "Epoch 10/50\n",
      "1436/1436 [==============================] - 1019s 710ms/step - loss: 0.0913 - accuracy: 0.9646 - val_loss: 0.1042 - val_accuracy: 0.9600\n",
      "\n",
      "Epoch 00010: val_loss improved from 0.19307 to 0.10421, saving model to model-oil_version2.h5\n",
      "Epoch 11/50\n",
      "1436/1436 [==============================] - 1018s 709ms/step - loss: 0.0848 - accuracy: 0.9668 - val_loss: 0.0668 - val_accuracy: 0.9766\n",
      "\n",
      "Epoch 00011: val_loss improved from 0.10421 to 0.06675, saving model to model-oil_version2.h5\n",
      "Epoch 12/50\n",
      "1436/1436 [==============================] - 1019s 709ms/step - loss: 0.0806 - accuracy: 0.9679 - val_loss: 0.0594 - val_accuracy: 0.9790\n",
      "\n",
      "Epoch 00012: val_loss improved from 0.06675 to 0.05940, saving model to model-oil_version2.h5\n",
      "Epoch 13/50\n",
      "1436/1436 [==============================] - 1018s 709ms/step - loss: 0.0767 - accuracy: 0.9690 - val_loss: 0.0672 - val_accuracy: 0.9761\n",
      "\n",
      "Epoch 00013: val_loss did not improve from 0.05940\n",
      "Epoch 14/50\n",
      "1436/1436 [==============================] - 1017s 708ms/step - loss: 0.0826 - accuracy: 0.9661 - val_loss: 0.0757 - val_accuracy: 0.9776\n",
      "\n",
      "Epoch 00014: val_loss did not improve from 0.05940\n",
      "Epoch 15/50\n",
      "1436/1436 [==============================] - 1016s 708ms/step - loss: 0.0974 - accuracy: 0.9599 - val_loss: 0.0864 - val_accuracy: 0.9757\n",
      "\n",
      "Epoch 00015: val_loss did not improve from 0.05940\n",
      "Epoch 16/50\n",
      "1436/1436 [==============================] - 1020s 710ms/step - loss: 0.0777 - accuracy: 0.9680 - val_loss: 0.0660 - val_accuracy: 0.9762\n",
      "\n",
      "Epoch 00016: val_loss did not improve from 0.05940\n",
      "Epoch 17/50\n",
      "1436/1436 [==============================] - 1019s 709ms/step - loss: 0.0731 - accuracy: 0.9691 - val_loss: 0.0556 - val_accuracy: 0.9790\n",
      "\n",
      "Epoch 00017: val_loss improved from 0.05940 to 0.05560, saving model to model-oil_version2.h5\n",
      "Epoch 18/50\n",
      "1436/1436 [==============================] - 1017s 709ms/step - loss: 0.0674 - accuracy: 0.9717 - val_loss: 0.0491 - val_accuracy: 0.9815\n",
      "\n",
      "Epoch 00018: val_loss improved from 0.05560 to 0.04906, saving model to model-oil_version2.h5\n",
      "Epoch 19/50\n",
      "1436/1436 [==============================] - 1019s 710ms/step - loss: 0.0620 - accuracy: 0.9735 - val_loss: 0.0502 - val_accuracy: 0.9802\n",
      "\n",
      "Epoch 00019: val_loss did not improve from 0.04906\n",
      "Epoch 20/50\n",
      "1436/1436 [==============================] - 1018s 709ms/step - loss: 0.0661 - accuracy: 0.9717 - val_loss: 0.0970 - val_accuracy: 0.9621\n",
      "\n",
      "Epoch 00020: val_loss did not improve from 0.04906\n",
      "Epoch 21/50\n",
      "1436/1436 [==============================] - 1019s 709ms/step - loss: 0.0645 - accuracy: 0.9723 - val_loss: 0.0668 - val_accuracy: 0.9742\n",
      "\n",
      "Epoch 00021: val_loss did not improve from 0.04906\n",
      "Epoch 22/50\n",
      "1436/1436 [==============================] - 1017s 708ms/step - loss: 0.0585 - accuracy: 0.9745 - val_loss: 0.1281 - val_accuracy: 0.9466\n",
      "\n",
      "Epoch 00022: val_loss did not improve from 0.04906\n",
      "Epoch 23/50\n",
      "1436/1436 [==============================] - 1020s 710ms/step - loss: 0.0550 - accuracy: 0.9758 - val_loss: 0.0458 - val_accuracy: 0.9823\n",
      "\n",
      "Epoch 00023: val_loss improved from 0.04906 to 0.04577, saving model to model-oil_version2.h5\n",
      "Epoch 24/50\n",
      "1436/1436 [==============================] - 1018s 709ms/step - loss: 0.0620 - accuracy: 0.9725 - val_loss: 0.3033 - val_accuracy: 0.8799\n",
      "\n",
      "Epoch 00024: val_loss did not improve from 0.04577\n",
      "Epoch 25/50\n",
      "1436/1436 [==============================] - 1017s 708ms/step - loss: 0.0572 - accuracy: 0.9753 - val_loss: 0.0709 - val_accuracy: 0.9744\n",
      "\n",
      "Epoch 00025: val_loss did not improve from 0.04577\n",
      "Epoch 26/50\n",
      "1436/1436 [==============================] - 1017s 708ms/step - loss: 0.0509 - accuracy: 0.9772 - val_loss: 0.0690 - val_accuracy: 0.9738\n",
      "\n",
      "Epoch 00026: val_loss did not improve from 0.04577\n",
      "Epoch 27/50\n",
      "1436/1436 [==============================] - 1018s 709ms/step - loss: 0.0483 - accuracy: 0.9783 - val_loss: 0.0477 - val_accuracy: 0.9794\n",
      "\n",
      "Epoch 00027: val_loss did not improve from 0.04577\n",
      "Epoch 28/50\n",
      "1436/1436 [==============================] - 1016s 708ms/step - loss: 0.0490 - accuracy: 0.9781 - val_loss: 0.0371 - val_accuracy: 0.9840\n",
      "\n",
      "Epoch 00028: val_loss improved from 0.04577 to 0.03714, saving model to model-oil_version2.h5\n",
      "Epoch 29/50\n",
      "1436/1436 [==============================] - 1017s 708ms/step - loss: 0.0482 - accuracy: 0.9784 - val_loss: 0.0365 - val_accuracy: 0.9844\n",
      "\n",
      "Epoch 00029: val_loss improved from 0.03714 to 0.03648, saving model to model-oil_version2.h5\n",
      "Epoch 30/50\n",
      "1436/1436 [==============================] - 1018s 709ms/step - loss: 0.0458 - accuracy: 0.9791 - val_loss: 0.0489 - val_accuracy: 0.9800\n",
      "\n",
      "Epoch 00030: val_loss did not improve from 0.03648\n",
      "Epoch 31/50\n",
      "1436/1436 [==============================] - 1017s 708ms/step - loss: 0.0406 - accuracy: 0.9815 - val_loss: 0.0421 - val_accuracy: 0.9823\n",
      "\n",
      "Epoch 00031: val_loss did not improve from 0.03648\n",
      "Epoch 32/50\n",
      "1436/1436 [==============================] - 1017s 709ms/step - loss: 0.0465 - accuracy: 0.9788 - val_loss: 0.0503 - val_accuracy: 0.9791\n",
      "\n",
      "Epoch 00032: val_loss did not improve from 0.03648\n",
      "Epoch 33/50\n",
      "1436/1436 [==============================] - 1018s 709ms/step - loss: 0.0420 - accuracy: 0.9807 - val_loss: 0.1291 - val_accuracy: 0.9389\n",
      "\n",
      "Epoch 00033: val_loss did not improve from 0.03648\n",
      "Epoch 34/50\n",
      "1436/1436 [==============================] - 1018s 709ms/step - loss: 0.0445 - accuracy: 0.9797 - val_loss: 0.0395 - val_accuracy: 0.9837\n",
      "\n",
      "Epoch 00034: ReduceLROnPlateau reducing learning rate to 0.00010000000474974513.\n",
      "\n",
      "Epoch 00034: val_loss did not improve from 0.03648\n",
      "Epoch 35/50\n",
      "1436/1436 [==============================] - 1018s 709ms/step - loss: 0.0366 - accuracy: 0.9831 - val_loss: 0.0382 - val_accuracy: 0.9839\n",
      "\n",
      "Epoch 00035: val_loss did not improve from 0.03648\n",
      "Epoch 36/50\n",
      "1436/1436 [==============================] - 1017s 708ms/step - loss: 0.0342 - accuracy: 0.9840 - val_loss: 0.0401 - val_accuracy: 0.9836\n",
      "\n",
      "Epoch 00036: val_loss did not improve from 0.03648\n",
      "Epoch 37/50\n",
      "1436/1436 [==============================] - 1018s 709ms/step - loss: 0.0332 - accuracy: 0.9843 - val_loss: 0.0443 - val_accuracy: 0.9821\n",
      "\n",
      "Epoch 00037: val_loss did not improve from 0.03648\n",
      "Epoch 38/50\n",
      "1436/1436 [==============================] - 1017s 708ms/step - loss: 0.0331 - accuracy: 0.9845 - val_loss: 0.0510 - val_accuracy: 0.9793\n",
      "\n",
      "Epoch 00038: val_loss did not improve from 0.03648\n",
      "Epoch 39/50\n",
      "1436/1436 [==============================] - 1017s 708ms/step - loss: 0.0338 - accuracy: 0.9843 - val_loss: 0.0444 - val_accuracy: 0.9819\n",
      "\n",
      "Epoch 00039: ReduceLROnPlateau reducing learning rate to 1.0000000474974514e-05.\n",
      "\n",
      "Epoch 00039: val_loss did not improve from 0.03648\n",
      "Epoch 00039: early stopping\n"
     ]
    }
   ],
   "source": [
    "callbacks = [\n",
    "    EarlyStopping(patience=10, verbose=1),\n",
    "    ReduceLROnPlateau(factor=0.1, patience=5, min_lr=0.00001, verbose=1),\n",
    "    ModelCheckpoint('model-oil_version2.h5', verbose=1, save_best_only=True, save_weights_only=True)\n",
    "]\n",
    "\n",
    "\n",
    "results = model.fit(X_train, y_train, batch_size=32, epochs=50, callbacks=callbacks, validation_data=(X_valid, y_valid))"
   ]
  },
  {
   "cell_type": "markdown",
   "metadata": {},
   "source": [
    "### Load the best model"
   ]
  },
  {
   "cell_type": "code",
   "execution_count": 45,
   "metadata": {},
   "outputs": [],
   "source": [
    "model.load_weights('model-oil.h5')"
   ]
  },
  {
   "cell_type": "markdown",
   "metadata": {},
   "source": [
    "### Compare learning curves on training and validation data sets"
   ]
  },
  {
   "cell_type": "code",
   "execution_count": 15,
   "metadata": {},
   "outputs": [
    {
     "data": {
      "image/png": "[encoded data removed]",
      "text/plain": [
       "<Figure size 432x288 with 1 Axes>"
      ]
     },
     "metadata": {
      "needs_background": "light"
     },
     "output_type": "display_data"
    }
   ],
   "source": [
    "plt.figure(figsize=(6, 4))\n",
    "plt.title(\"Learning curve\")\n",
    "plt.plot(results.history[\"loss\"], label=\"loss\")\n",
    "plt.plot(results.history[\"val_loss\"], label=\"val_loss\")\n",
    "plt.plot( np.argmin(results.history[\"val_loss\"]), np.min(results.history[\"val_loss\"]), marker=\"x\", color=\"r\", label=\"best model\")\n",
    "plt.xlabel(\"Epochs\")\n",
    "plt.ylabel(\"log_loss\")\n",
    "plt.legend();\n",
    "plt.savefig('learning curve.png', dpi=300)"
   ]
  },
  {
   "cell_type": "code",
   "execution_count": 19,
   "metadata": {},
   "outputs": [
    {
     "data": {
      "image/png": "[encoded data removed]",
      "text/plain": [
       "<Figure size 432x288 with 1 Axes>"
      ]
     },
     "metadata": {
      "needs_background": "light"
     },
     "output_type": "display_data"
    }
   ],
   "source": [
    "plt.figure(figsize=(6, 4))\n",
    "plt.title(\"Learning curve\")\n",
    "plt.plot(results.history[\"accuracy\"], label=\"accuracy\")\n",
    "plt.plot(results.history[\"val_accuracy\"], label=\"val_loss\")\n",
    "plt.plot( np.argmax(results.history[\"val_accuracy\"]), np.max(results.history[\"val_accuracy\"]), marker=\"x\", color=\"r\", label=\"best model\")\n",
    "plt.xlabel(\"Epochs\")\n",
    "plt.ylabel(\"accuracy\")\n",
    "plt.legend();\n",
    "plt.savefig('learning curve acc.png', dpi=300)"
   ]
  },
  {
   "cell_type": "markdown",
   "metadata": {},
   "source": [
    "### Get predictions on train,validation and test data sets"
   ]
  },
  {
   "cell_type": "code",
   "execution_count": null,
   "metadata": {},
   "outputs": [],
   "source": [
    "model.evaluate(X_valid, y_valid, verbose=1)\n",
    "# Predict on train, val and test\n",
    "preds_train = model.predict(X_train, verbose=1)\n",
    "preds_val = model.predict(X_valid, verbose=1)\n",
    "# Threshold predictions\n",
    "preds_train_t = (preds_train > 0.5).astype(np.uint8)\n",
    "preds_val_t = (preds_val > 0.5).astype(np.uint8)\n",
    "# Predict on train, val and test\n",
    "preds_train = model.predict(X, verbose=1)\n",
    "# Threshold predictions\n",
    "preds_train_t = (preds_train > 0.5).astype(np.uint8)"
   ]
  },
  {
   "cell_type": "markdown",
   "metadata": {},
   "source": [
    "### Get predictions on whole dataset"
   ]
  },
  {
   "cell_type": "code",
   "execution_count": 46,
   "metadata": {},
   "outputs": [
    {
     "name": "stdout",
     "output_type": "stream",
     "text": [
      "449/449 [==============================] - 85s 190ms/step\n"
     ]
    }
   ],
   "source": [
    "# Predict on whole datasete\n",
    "preds_train = model.predict(X, verbose=1)\n",
    "# Threshold predictions\n",
    "preds_train_t = (preds_train > 0.5).astype(np.uint8)\n",
    "\n",
    "preds_train_t = preds_train_t.reshape(449, 400, 640)\n",
    "X_image = X.reshape(449, 400, 640)\n",
    "preds_train_t.shape"
   ]
  },
  {
   "cell_type": "markdown",
   "metadata": {},
   "source": [
    "### Save our predictions in .png format"
   ]
  },
  {
   "cell_type": "code",
   "execution_count": null,
   "metadata": {},
   "outputs": [],
   "source": [
    "for n, id_ in enumerate(ids):\n",
    "    fig, axs = plt.subplots(1, 1, figsize=(6, 6))\n",
    "    axs.get_xaxis().set_visible(False)\n",
    "    axs.get_yaxis().set_visible(False)\n",
    "    axs.imshow(preds_train_t[n,...])\n",
    "    plt.savefig(r'./val_mask/'+str(id_),bbox_inches=\"tight\", pad_inches = 0, dpi=300)"
   ]
  },
  {
   "cell_type": "markdown",
   "metadata": {},
   "source": [
    "### Save our predictions in .npy format"
   ]
  },
  {
   "cell_type": "code",
   "execution_count": null,
   "metadata": {},
   "outputs": [],
   "source": [
    "np.save(r'./image.npy',preds_train_t)\n",
    "data = np.load(r'./image.npy')"
   ]
  },
  {
   "cell_type": "code",
   "execution_count": null,
   "metadata": {},
   "outputs": [],
   "source": [
    "y = np.zeros((len(ids), im_height, im_width, 1), dtype=np.float32)\n",
    "y_pred = np.zeros((len(ids), im_height, im_width, 1), dtype=np.float32)\n",
    "\n",
    "for n in range(0,449,1) :\n",
    "    mask = img_to_array(load_img(r\"./mask/\"+str(n)+'.png', grayscale=True))\n",
    "    mask = resize(mask,(im_height,im_width, 1), mode = 'constant', preserve_range = True)\n",
    "    y[n] = mask/255.0\n",
    "    \n",
    "for n in range(0,449,1) :\n",
    "    mask = img_to_array(load_img(r\"./val_mask/\"+str(n)+'.png', grayscale=True))\n",
    "    mask = resize(mask,(im_height,im_width, 1), mode = 'constant', preserve_range = True)\n",
    "    y_pred[n] = mask/255.0\n",
    "    \n",
    "\n",
    "y = y.reshape(449, 400, 640)\n",
    "y_pred = y_pred.reshape(449, 400, 640)\n",
    "np.save(r'./image_true.npy',y)\n",
    "np.save(r'./image_pred.npy',preds_train_t)"
   ]
  },
  {
   "cell_type": "markdown",
   "metadata": {},
   "source": [
    "### Create functions that save 3-D Numpy array into VTK file"
   ]
  },
  {
   "cell_type": "code",
   "execution_count": 26,
   "metadata": {},
   "outputs": [],
   "source": [
    "import os\n",
    "import matplotlib\n",
    "from pyevtk.hl import gridToVTK\n",
    "\n",
    "def save_to_vtk(data, filepath):\n",
    "    \"\"\"\n",
    "    save the 3d data to a .vtk file. \n",
    "    \n",
    "    Parameters\n",
    "    ------------\n",
    "    data : 3d np.array\n",
    "        3d matrix that we want to visualize\n",
    "    filepath : str\n",
    "        where to save the vtk model, do not include vtk extension, it does automatically\n",
    "    \"\"\"\n",
    "    x = np.arange(data.shape[0]+1)\n",
    "    y = np.arange(data.shape[1]+1)\n",
    "    z = np.arange(data.shape[2]+1)\n",
    "    gridToVTK(filepath, x, y, z, cellData={'data':data.copy()})"
   ]
  },
  {
   "cell_type": "markdown",
   "metadata": {},
   "source": [
    "### Save our predicted and ground-true seismic time slices into VTK format"
   ]
  },
  {
   "cell_type": "code",
   "execution_count": null,
   "metadata": {},
   "outputs": [],
   "source": [
    "data = np.load(r'./image_pred.npy')\n",
    "filepath = r'./image_pred'\n",
    "save_to_vtk(data, filepath)"
   ]
  },
  {
   "cell_type": "code",
   "execution_count": 54,
   "metadata": {},
   "outputs": [],
   "source": [
    "data = np.load(r'./image_true.npy')\n",
    "filepath = r'./image_true'\n",
    "save_to_vtk(data, filepath)"
   ]
  }
 ],
 "metadata": {
  "kernelspec": {
   "display_name": "Python 3",
   "language": "python",
   "name": "python3"
  },
  "language_info": {
   "codemirror_mode": {
    "name": "ipython",
    "version": 3
   },
   "file_extension": ".py",
   "mimetype": "text/x-python",
   "name": "python",
   "nbconvert_exporter": "python",
   "pygments_lexer": "ipython3",
   "version": "3.7.7"
  }
 },
 "nbformat": 4,
 "nbformat_minor": 4
}